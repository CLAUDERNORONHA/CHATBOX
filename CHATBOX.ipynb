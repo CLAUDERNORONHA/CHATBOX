{
  "nbformat": 4,
  "nbformat_minor": 0,
  "metadata": {
    "colab": {
      "name": "CHATBOX.ipynb",
      "provenance": [],
      "authorship_tag": "ABX9TyNsF7NubJnEgYnkb6CcNGAW",
      "include_colab_link": true
    },
    "kernelspec": {
      "name": "python3",
      "display_name": "Python 3"
    }
  },
  "cells": [
    {
      "cell_type": "markdown",
      "metadata": {
        "id": "view-in-github",
        "colab_type": "text"
      },
      "source": [
        "<a href=\"https://colab.research.google.com/github/ClauderCarvalho/CHATBOX/blob/master/CHATBOX.ipynb\" target=\"_parent\"><img src=\"https://colab.research.google.com/assets/colab-badge.svg\" alt=\"Open In Colab\"/></a>"
      ]
    },
    {
      "cell_type": "code",
      "metadata": {
        "id": "ePDSFJgtPxRP",
        "colab_type": "code",
        "colab": {}
      },
      "source": [
        "!pip install chatterbot\n",
        "!pip install chatterbot_corpus"
      ],
      "execution_count": null,
      "outputs": []
    },
    {
      "cell_type": "code",
      "metadata": {
        "id": "o4slwi_VQFOr",
        "colab_type": "code",
        "colab": {}
      },
      "source": [
        "from chatterbot import ChatBot\n",
        "from chatterbot.trainers import ListTrainer\n",
        "from chatterbot.trainers import ChatterBotCorpusTrainer\n",
        "\n",
        "bot = ChatBot('Pybot')\n",
        "bot = ChatBot(\n",
        "    'Pybot',\n",
        "    storage_adapter='chatterbot.storage.SQLStorageAdapter',\n",
        "    database_uri='sqlite:///database.sqlite3'\n",
        "    )\n",
        "    \n",
        "conversa = ListTrainer(bot)\n",
        "conversa.train([\n",
        "    'Oi?',\n",
        "    'Olá',\n",
        "    'Qual o seu nome?',\n",
        "    'Pybot',\n",
        "    'Prazer em te conhecer',\n",
        "    'Igualmente!',\n",
        "    'Tudo bem?',\n",
        "    'Muito bem e você?',\n",
        "    'Ótimo',\n",
        "    'Papo bom o nosso',\n",
        "    'kkk',\n",
        "    'adeus',\n",
        "    'Volte sempre!',\n",
        "])\n",
        "\n",
        "trainer = ChatterBotCorpusTrainer(bot)\n",
        "trainer.train('chatterbot.corpus.portuguese')"
      ],
      "execution_count": null,
      "outputs": []
    }
  ]
}